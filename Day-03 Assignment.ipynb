{
  "nbformat": 4,
  "nbformat_minor": 0,
  "metadata": {
    "colab": {
      "name": "Untitled0.ipynb",
      "provenance": []
    },
    "kernelspec": {
      "name": "python3",
      "display_name": "Python 3"
    }
  },
  "cells": [
    {
      "cell_type": "code",
      "metadata": {
        "id": "m81dCGwZvr2x",
        "outputId": "00b93358-f3eb-455f-bebd-8c7c91ce70cc",
        "colab": {
          "base_uri": "https://localhost:8080/"
        }
      },
      "source": [
        "#Ans:01\n",
        "\n",
        "import numpy as np\n",
        "a= np.arange(start=1, stop=50, step=3)\n",
        "a\n"
      ],
      "execution_count": 1,
      "outputs": [
        {
          "output_type": "execute_result",
          "data": {
            "text/plain": [
              "array([ 1,  4,  7, 10, 13, 16, 19, 22, 25, 28, 31, 34, 37, 40, 43, 46, 49])"
            ]
          },
          "metadata": {
            "tags": []
          },
          "execution_count": 1
        }
      ]
    },
    {
      "cell_type": "code",
      "metadata": {
        "id": "0IY1BFuPjSfy",
        "outputId": "9cf3e6f1-5c4d-40ce-b612-34a25ffd3074",
        "colab": {
          "base_uri": "https://localhost:8080/"
        }
      },
      "source": [
        "#Ans:02\n",
        "\n",
        "import numpy as np\n",
        "list1=[]\n",
        "list2=[] \n",
        "for i in range(0,5):          # iterating till the range \n",
        "    a = int(input(\"Enter the elements : \"))\n",
        "    list1.append(a)\n",
        "print(list1)\n",
        "array1 = np.array(list1)\n",
        "for e in range(0,5): \n",
        "    b = int(input(\"Enter the elements : \"))\n",
        "    list2.append(b)\n",
        "print(list2)\n",
        "array2 = np.array(list2)\n",
        "c= np.concatenate((array1, array2))\n",
        "print(c)                      #Concatenating array and printing it\n",
        "print(np.sort(c))             #Sorting the array and printing it"
      ],
      "execution_count": 8,
      "outputs": [
        {
          "output_type": "stream",
          "text": [
            "Enter the elements : 5\n",
            "Enter the elements : 5\n",
            "Enter the elements : 3\n",
            "Enter the elements : 3\n",
            "Enter the elements : 3\n",
            "[5, 5, 3, 3, 3]\n",
            "Enter the elements : 4\n",
            "Enter the elements : 4\n",
            "Enter the elements : 7\n",
            "Enter the elements : 8\n",
            "Enter the elements : 9\n",
            "[4, 4, 7, 8, 9]\n",
            "[5 5 3 3 3 4 4 7 8 9]\n",
            "[3 3 3 4 4 5 5 7 8 9]\n"
          ],
          "name": "stdout"
        }
      ]
    },
    {
      "cell_type": "code",
      "metadata": {
        "id": "EdIGz9E7ldSO",
        "outputId": "16762846-32c7-4a65-dce8-8ebb63e9ade8",
        "colab": {
          "base_uri": "https://localhost:8080/"
        }
      },
      "source": [
        "#Ans:03\n",
        "\n",
        "import numpy as np\n",
        "arr = np.array( [[ 1, 2, 3], [ 4, 2, 5]] )\n",
        "print(\"No. of dimensions: \", arr.ndim)  #Dimension\n",
        "print(\"Size of array: \", arr.size)      #Size\n"
      ],
      "execution_count": 11,
      "outputs": [
        {
          "output_type": "stream",
          "text": [
            "No. of dimensions:  2\n",
            "Size of array:  6\n"
          ],
          "name": "stdout"
        }
      ]
    },
    {
      "cell_type": "code",
      "metadata": {
        "id": "B-sOA1dOj_xw",
        "outputId": "53b2d840-6520-4e50-9a9d-891fd591d115",
        "colab": {
          "base_uri": "https://localhost:8080/"
        }
      },
      "source": [
        "#Ans:04\n",
        "\n",
        "import numpy as np\n",
        "arr = np.array([0, 1, 2, 3, 4, 5, 6, 7, 8, 9])\n",
        "print('1D Numpy array:',arr)\n",
        "arr_2d = np.reshape(arr, (2, 5))\n",
        "print(arr_2d)\n"
      ],
      "execution_count": 13,
      "outputs": [
        {
          "output_type": "stream",
          "text": [
            "1D Numpy array: [0 1 2 3 4 5 6 7 8 9]\n",
            "[[0 1 2 3 4]\n",
            " [5 6 7 8 9]]\n"
          ],
          "name": "stdout"
        }
      ]
    },
    {
      "cell_type": "code",
      "metadata": {
        "id": "UGidFQPbnQXy",
        "outputId": "abacd807-2030-4d2b-f221-867bb0fa879f",
        "colab": {
          "base_uri": "https://localhost:8080/"
        }
      },
      "source": [
        "#Ans: 05\n",
        "\n",
        "import numpy as np\n",
        "a1 = np.array([[1, 1], [2, 2]])\n",
        "a2 = np.array([[3, 3],[4, 4]])\n",
        "vert= np.vstack((a1, a2))\n",
        "hori = np.hstack((a1, a2))\n",
        "print(vert)\n",
        "print(hori)"
      ],
      "execution_count": 16,
      "outputs": [
        {
          "output_type": "stream",
          "text": [
            "[[1 1]\n",
            " [2 2]\n",
            " [3 3]\n",
            " [4 4]]\n",
            "[[1 1 3 3]\n",
            " [2 2 4 4]]\n"
          ],
          "name": "stdout"
        }
      ]
    },
    {
      "cell_type": "code",
      "metadata": {
        "id": "EUjBZKuopfPu",
        "outputId": "9f9aad46-d738-4ec6-9ef8-a0e88356a118",
        "colab": {
          "base_uri": "https://localhost:8080/"
        }
      },
      "source": [
        "#Ans: 06\n",
        "\n",
        "import numpy as np\n",
        "a = np.array([0, 3, 0, 1, 0, 1, 2, 1, 0, 0, 0, 0, 1, 3, 4])\n",
        "unique, counts = np.unique(a, return_counts=True)\n",
        "dict(zip(unique, counts))"
      ],
      "execution_count": 20,
      "outputs": [
        {
          "output_type": "execute_result",
          "data": {
            "text/plain": [
              "{0: 7, 1: 4, 2: 1, 3: 2, 4: 1}"
            ]
          },
          "metadata": {
            "tags": []
          },
          "execution_count": 20
        }
      ]
    },
    {
      "cell_type": "code",
      "metadata": {
        "id": "lC-pCCHerrNm"
      },
      "source": [
        ""
      ],
      "execution_count": null,
      "outputs": []
    }
  ]
}